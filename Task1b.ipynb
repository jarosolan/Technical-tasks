{
 "cells": [
  {
   "cell_type": "markdown",
   "id": "chinese-canal",
   "metadata": {},
   "source": [
    "# Task 2"
   ]
  },
  {
   "cell_type": "markdown",
   "id": "collective-singing",
   "metadata": {},
   "source": [
    "Task description:\n",
    "a) Load the tree height data below using any Python environment and libraries you wish. \n",
    "b) Summarize the data and \n",
    "c) indicate any potential issues.  \n",
    "Please provide:\n",
    "d) the code and any \n",
    "e) notes, \n",
    "f) charts or\n",
    "g) tables you created."
   ]
  },
  {
   "cell_type": "code",
   "execution_count": 1,
   "id": "stupid-madness",
   "metadata": {},
   "outputs": [],
   "source": [
    "# Importing libraries\n",
    "import pandas as pd\n",
    "import matplotlib.pyplot as plt\n",
    "import seaborn as sns"
   ]
  },
  {
   "cell_type": "code",
   "execution_count": 2,
   "id": "peaceful-butter",
   "metadata": {},
   "outputs": [],
   "source": [
    "# Loading the dataset, paste your path to file in the first line of code between to '' \n",
    "path = r'C:/Users/Jared/Dropbox/WORK/EMAPSITE/emapsite_test_data.csv'\n",
    "df = pd.read_csv(path)"
   ]
  },
  {
   "cell_type": "markdown",
   "id": "smart-factory",
   "metadata": {},
   "source": [
    "Below I was trying to load the dataset which I manually edited (added letters to some values). I cannot load this dataset due to below error.\n",
    "I did it to check if the original dataset could contain some not visible for me, at the first glance, not-numbers."
   ]
  },
  {
   "cell_type": "code",
   "execution_count": 9,
   "id": "subject-tumor",
   "metadata": {},
   "outputs": [
    {
     "name": "stderr",
     "output_type": "stream",
     "text": [
      "C:\\Users\\Jared\\Anaconda3\\lib\\site-packages\\IPython\\core\\interactiveshell.py:3166: DtypeWarning: Columns (0) have mixed types.Specify dtype option on import or set low_memory=False.\n",
      "  interactivity=interactivity, compiler=compiler, result=result)\n"
     ]
    }
   ],
   "source": [
    "df2 = pd.read_csv(path2)"
   ]
  },
  {
   "cell_type": "code",
   "execution_count": 4,
   "id": "dangerous-roman",
   "metadata": {},
   "outputs": [
    {
     "data": {
      "text/plain": [
       "(2555137, 1)"
      ]
     },
     "execution_count": 4,
     "metadata": {},
     "output_type": "execute_result"
    }
   ],
   "source": [
    "# Check dataset dimensions\n",
    "df.shape"
   ]
  },
  {
   "cell_type": "markdown",
   "id": "interim-onion",
   "metadata": {},
   "source": [
    "Dataset contains one column with milions of rows."
   ]
  },
  {
   "cell_type": "code",
   "execution_count": 5,
   "id": "surprising-journal",
   "metadata": {},
   "outputs": [
    {
     "data": {
      "text/html": [
       "<div>\n",
       "<style scoped>\n",
       "    .dataframe tbody tr th:only-of-type {\n",
       "        vertical-align: middle;\n",
       "    }\n",
       "\n",
       "    .dataframe tbody tr th {\n",
       "        vertical-align: top;\n",
       "    }\n",
       "\n",
       "    .dataframe thead th {\n",
       "        text-align: right;\n",
       "    }\n",
       "</style>\n",
       "<table border=\"1\" class=\"dataframe\">\n",
       "  <thead>\n",
       "    <tr style=\"text-align: right;\">\n",
       "      <th></th>\n",
       "      <th>val</th>\n",
       "    </tr>\n",
       "  </thead>\n",
       "  <tbody>\n",
       "    <tr>\n",
       "      <th>0</th>\n",
       "      <td>17.241</td>\n",
       "    </tr>\n",
       "    <tr>\n",
       "      <th>1</th>\n",
       "      <td>5.366</td>\n",
       "    </tr>\n",
       "    <tr>\n",
       "      <th>2</th>\n",
       "      <td>10.643</td>\n",
       "    </tr>\n",
       "    <tr>\n",
       "      <th>3</th>\n",
       "      <td>5.916</td>\n",
       "    </tr>\n",
       "    <tr>\n",
       "      <th>4</th>\n",
       "      <td>15.554</td>\n",
       "    </tr>\n",
       "  </tbody>\n",
       "</table>\n",
       "</div>"
      ],
      "text/plain": [
       "      val\n",
       "0  17.241\n",
       "1   5.366\n",
       "2  10.643\n",
       "3   5.916\n",
       "4  15.554"
      ]
     },
     "execution_count": 5,
     "metadata": {},
     "output_type": "execute_result"
    }
   ],
   "source": [
    "# Check dataset header name and first few values\n",
    "df.head()"
   ]
  },
  {
   "cell_type": "markdown",
   "id": "pacific-moral",
   "metadata": {},
   "source": [
    "The column name is 'val'. Dataset contains float numbers."
   ]
  },
  {
   "cell_type": "code",
   "execution_count": 6,
   "id": "other-estimate",
   "metadata": {},
   "outputs": [
    {
     "name": "stdout",
     "output_type": "stream",
     "text": [
      "val    0\n",
      "dtype: int64\n"
     ]
    }
   ],
   "source": [
    "# Check null values across the dataset\n",
    "print(df.isnull().sum())"
   ]
  },
  {
   "cell_type": "markdown",
   "id": "bottom-integration",
   "metadata": {},
   "source": [
    "No missing values found across dataset."
   ]
  },
  {
   "cell_type": "code",
   "execution_count": 7,
   "id": "northern-mandate",
   "metadata": {},
   "outputs": [],
   "source": [
    "# Setting decimal places display to look more human friendly, just 2 should be probably the best.\n",
    "pd.options.display.float_format = '{:,.2f}'.format"
   ]
  },
  {
   "cell_type": "code",
   "execution_count": 8,
   "id": "transsexual-queens",
   "metadata": {},
   "outputs": [
    {
     "data": {
      "text/html": [
       "<div>\n",
       "<style scoped>\n",
       "    .dataframe tbody tr th:only-of-type {\n",
       "        vertical-align: middle;\n",
       "    }\n",
       "\n",
       "    .dataframe tbody tr th {\n",
       "        vertical-align: top;\n",
       "    }\n",
       "\n",
       "    .dataframe thead th {\n",
       "        text-align: right;\n",
       "    }\n",
       "</style>\n",
       "<table border=\"1\" class=\"dataframe\">\n",
       "  <thead>\n",
       "    <tr style=\"text-align: right;\">\n",
       "      <th></th>\n",
       "      <th>val</th>\n",
       "    </tr>\n",
       "  </thead>\n",
       "  <tbody>\n",
       "    <tr>\n",
       "      <th>count</th>\n",
       "      <td>2,555,137.00</td>\n",
       "    </tr>\n",
       "    <tr>\n",
       "      <th>mean</th>\n",
       "      <td>11.35</td>\n",
       "    </tr>\n",
       "    <tr>\n",
       "      <th>std</th>\n",
       "      <td>6.62</td>\n",
       "    </tr>\n",
       "    <tr>\n",
       "      <th>min</th>\n",
       "      <td>0.62</td>\n",
       "    </tr>\n",
       "    <tr>\n",
       "      <th>25%</th>\n",
       "      <td>5.73</td>\n",
       "    </tr>\n",
       "    <tr>\n",
       "      <th>50%</th>\n",
       "      <td>10.13</td>\n",
       "    </tr>\n",
       "    <tr>\n",
       "      <th>75%</th>\n",
       "      <td>16.13</td>\n",
       "    </tr>\n",
       "    <tr>\n",
       "      <th>max</th>\n",
       "      <td>45.00</td>\n",
       "    </tr>\n",
       "  </tbody>\n",
       "</table>\n",
       "</div>"
      ],
      "text/plain": [
       "               val\n",
       "count 2,555,137.00\n",
       "mean         11.35\n",
       "std           6.62\n",
       "min           0.62\n",
       "25%           5.73\n",
       "50%          10.13\n",
       "75%          16.13\n",
       "max          45.00"
      ]
     },
     "execution_count": 8,
     "metadata": {},
     "output_type": "execute_result"
    }
   ],
   "source": [
    "# Check initial dataset parameters\n",
    "df.describe()"
   ]
  },
  {
   "cell_type": "markdown",
   "id": "overall-seventh",
   "metadata": {},
   "source": [
    "There are 2,555,137 rows in dataset.\n",
    "The mean value is 11.35\n",
    "The standard devation is 6.62\n",
    "The lowest value is 0.62\n",
    "The highest value is 45.00\n",
    "Quartiles end at the following values: \n",
    "1 - 5.73\n",
    "2 - 10.13 (median values)\n",
    "3 - 16.13"
   ]
  },
  {
   "cell_type": "code",
   "execution_count": 9,
   "id": "painted-momentum",
   "metadata": {},
   "outputs": [
    {
     "data": {
      "text/html": [
       "<div>\n",
       "<style scoped>\n",
       "    .dataframe tbody tr th:only-of-type {\n",
       "        vertical-align: middle;\n",
       "    }\n",
       "\n",
       "    .dataframe tbody tr th {\n",
       "        vertical-align: top;\n",
       "    }\n",
       "\n",
       "    .dataframe thead th {\n",
       "        text-align: right;\n",
       "    }\n",
       "</style>\n",
       "<table border=\"1\" class=\"dataframe\">\n",
       "  <thead>\n",
       "    <tr style=\"text-align: right;\">\n",
       "      <th></th>\n",
       "      <th>val</th>\n",
       "    </tr>\n",
       "  </thead>\n",
       "  <tbody>\n",
       "    <tr>\n",
       "      <th>424940</th>\n",
       "      <td>45.00</td>\n",
       "    </tr>\n",
       "    <tr>\n",
       "      <th>1446146</th>\n",
       "      <td>44.99</td>\n",
       "    </tr>\n",
       "    <tr>\n",
       "      <th>1190729</th>\n",
       "      <td>44.98</td>\n",
       "    </tr>\n",
       "    <tr>\n",
       "      <th>985901</th>\n",
       "      <td>44.98</td>\n",
       "    </tr>\n",
       "    <tr>\n",
       "      <th>2519566</th>\n",
       "      <td>44.95</td>\n",
       "    </tr>\n",
       "  </tbody>\n",
       "</table>\n",
       "</div>"
      ],
      "text/plain": [
       "          val\n",
       "424940  45.00\n",
       "1446146 44.99\n",
       "1190729 44.98\n",
       "985901  44.98\n",
       "2519566 44.95"
      ]
     },
     "execution_count": 9,
     "metadata": {},
     "output_type": "execute_result"
    }
   ],
   "source": [
    "# Check for 5 highest values across dataset\n",
    "df.sort_values('val', ascending=False).head(5)"
   ]
  },
  {
   "cell_type": "code",
   "execution_count": 10,
   "id": "under-poker",
   "metadata": {},
   "outputs": [
    {
     "data": {
      "text/html": [
       "<div>\n",
       "<style scoped>\n",
       "    .dataframe tbody tr th:only-of-type {\n",
       "        vertical-align: middle;\n",
       "    }\n",
       "\n",
       "    .dataframe tbody tr th {\n",
       "        vertical-align: top;\n",
       "    }\n",
       "\n",
       "    .dataframe thead th {\n",
       "        text-align: right;\n",
       "    }\n",
       "</style>\n",
       "<table border=\"1\" class=\"dataframe\">\n",
       "  <thead>\n",
       "    <tr style=\"text-align: right;\">\n",
       "      <th></th>\n",
       "      <th>val</th>\n",
       "    </tr>\n",
       "  </thead>\n",
       "  <tbody>\n",
       "    <tr>\n",
       "      <th>867244</th>\n",
       "      <td>0.84</td>\n",
       "    </tr>\n",
       "    <tr>\n",
       "      <th>204398</th>\n",
       "      <td>0.83</td>\n",
       "    </tr>\n",
       "    <tr>\n",
       "      <th>254559</th>\n",
       "      <td>0.80</td>\n",
       "    </tr>\n",
       "    <tr>\n",
       "      <th>2009732</th>\n",
       "      <td>0.75</td>\n",
       "    </tr>\n",
       "    <tr>\n",
       "      <th>1787044</th>\n",
       "      <td>0.62</td>\n",
       "    </tr>\n",
       "  </tbody>\n",
       "</table>\n",
       "</div>"
      ],
      "text/plain": [
       "         val\n",
       "867244  0.84\n",
       "204398  0.83\n",
       "254559  0.80\n",
       "2009732 0.75\n",
       "1787044 0.62"
      ]
     },
     "execution_count": 10,
     "metadata": {},
     "output_type": "execute_result"
    }
   ],
   "source": [
    "# Check for 5 lowest values across dataset\n",
    "df.sort_values('val', ascending=False).tail(5)"
   ]
  },
  {
   "cell_type": "markdown",
   "id": "attached-camel",
   "metadata": {},
   "source": [
    "# Charts"
   ]
  },
  {
   "cell_type": "markdown",
   "id": "aware-lighting",
   "metadata": {},
   "source": [
    "I decided to choose seaborn and matplotlib as I'm familar with these libraries, as well as plotly."
   ]
  },
  {
   "cell_type": "code",
   "execution_count": 11,
   "id": "boolean-subsection",
   "metadata": {},
   "outputs": [],
   "source": [
    "# Setting background grid for charts, to perform more accurate observations.\n",
    "sns.set_style(\"whitegrid\")"
   ]
  },
  {
   "cell_type": "code",
   "execution_count": 12,
   "id": "divine-consequence",
   "metadata": {},
   "outputs": [
    {
     "data": {
      "image/png": "[encoded data removed]",
      "text/plain": [
       "<Figure size 360x360 with 1 Axes>"
      ]
     },
     "metadata": {},
     "output_type": "display_data"
    }
   ],
   "source": [
    "# Plotting univariate histogram\n",
    "sns.displot(df, x='val') # plotting histogram, df is dataset name, x='val' is a value name\n",
    "plt.title('The histogram of tree height values', fontsize=13) # adding title\n",
    "plt.xlabel('Height[m]', fontsize=13) # adding x axis label\n",
    "plt.ylabel('Count', fontsize=12) # adding y axis label\n",
    "plt.show() # display figure"
   ]
  },
  {
   "cell_type": "markdown",
   "id": "based-raise",
   "metadata": {},
   "source": [
    "Data distribution for the above chart looks undisturbed.\n",
    "I can't see any suspicious spikes in the data, or anything else that requires my attention.\n",
    "Histogram has skew right distribution.\n",
    "Dataset represents continuous numeric values in a range from approximately 0.5 to 40 (grid is still shown in the background, thereby I can say that there are some values till ~45).\n",
    "It is worth to mention that geospatial location of dataset is unknown, hence I can't predict details related to features."
   ]
  },
  {
   "cell_type": "code",
   "execution_count": 13,
   "id": "constant-causing",
   "metadata": {},
   "outputs": [
    {
     "data": {
      "image/png": "[encoded data removed]",
      "text/plain": [
       "<Figure size 360x360 with 1 Axes>"
      ]
     },
     "metadata": {},
     "output_type": "display_data"
    }
   ],
   "source": [
    "# Plotting univariate histogram within 1m bins (bindwith is 1)\n",
    "sns.displot(df, x='val', binwidth=1)\n",
    "plt.title('The frequency histogram of tree height values within 1m ranges', fontsize=13)\n",
    "plt.xlabel('Height[m]', fontsize=12)\n",
    "plt.ylabel('Count', fontsize=12)\n",
    "plt.show()"
   ]
  },
  {
   "cell_type": "markdown",
   "id": "forward-lightweight",
   "metadata": {},
   "source": [
    "Above chart comprises bins which contain values for each 1m interval, starting from 0.\n",
    "The most common tree height is between 4 and 5m.\n",
    "From range 0-1 to range 4-5 there are more and more values per bin.\n",
    "From 4-5 range to end of X axis there are fewer and fewer values per bin."
   ]
  },
  {
   "cell_type": "code",
   "execution_count": 14,
   "id": "compatible-cache",
   "metadata": {},
   "outputs": [
    {
     "data": {
      "image/png": "[encoded data removed]",
      "text/plain": [
       "<Figure size 360x360 with 1 Axes>"
      ]
     },
     "metadata": {},
     "output_type": "display_data"
    }
   ],
   "source": [
    "# Plotting density of values distribution\n",
    "# Choosing the smoothing bandwidth as kernel density estimation, which stands for kind = 'kde' below\n",
    "sns.displot(df, x=\"val\", kind=\"kde\", bw_adjust=0.75)\n",
    "# the higher the bw_adjust value, the more smoothed estimation line\n",
    "plt.title('The kernel density estimation', fontsize=13)\n",
    "plt.xlabel('Height[m]', fontsize=12)\n",
    "plt.ylabel('Density', fontsize=12)\n",
    "plt.show()"
   ]
  },
  {
   "cell_type": "markdown",
   "id": "liberal-boost",
   "metadata": {},
   "source": [
    "Above chart represents density of values across the whole dataset, smoothed with 0.75 parameter.\n",
    "At this chart we can see that value maximum can be found around approximately 45, what can't be observed that easily for first 2 charts."
   ]
  },
  {
   "cell_type": "code",
   "execution_count": 15,
   "id": "settled-operation",
   "metadata": {},
   "outputs": [
    {
     "data": {
      "image/png": "[encoded data removed]",
      "text/plain": [
       "<Figure size 360x360 with 1 Axes>"
      ]
     },
     "metadata": {},
     "output_type": "display_data"
    }
   ],
   "source": [
    "# Plotting 2 previous charts together by setting kde to True\n",
    "sns.displot(df, x='val', binwidth=1, kde = True)\n",
    "plt.title('Histogram + Kernel density estimation combined', fontsize=13)\n",
    "plt.xlabel('Height[m]', fontsize=12)\n",
    "plt.ylabel('Count', fontsize=12)\n",
    "plt.show()"
   ]
  },
  {
   "cell_type": "markdown",
   "id": "aboriginal-conditioning",
   "metadata": {},
   "source": [
    "KDE line fits well to top of the histogram's bins."
   ]
  },
  {
   "cell_type": "code",
   "execution_count": 16,
   "id": "approximate-hobby",
   "metadata": {},
   "outputs": [
    {
     "data": {
      "image/png": "[encoded data removed]",
      "text/plain": [
       "<Figure size 360x360 with 1 Axes>"
      ]
     },
     "metadata": {},
     "output_type": "display_data"
    }
   ],
   "source": [
    "# Cumulative chart of values distribution.\n",
    "sns.displot(df, x=\"val\", kind=\"ecdf\") # kind=\"ecdf\" is responsible for type of chart\n",
    "plt.title('The proportion of height distribution across the dataset', fontsize=13)\n",
    "plt.xlabel('Height[m]', fontsize=12)\n",
    "plt.ylabel('Proportion', fontsize=12)\n",
    "plt.show()"
   ]
  },
  {
   "cell_type": "markdown",
   "id": "removed-reynolds",
   "metadata": {},
   "source": [
    "Above chart shows proportions of distribution across dataset.\n",
    "Approximately 50% of trees are lower than 10m (can be compared with the 2nd quartile).\n",
    "Approximately 90% of trees are lower than 20m."
   ]
  },
  {
   "cell_type": "markdown",
   "id": "american-detroit",
   "metadata": {},
   "source": [
    "# General observations"
   ]
  },
  {
   "cell_type": "markdown",
   "id": "driven-class",
   "metadata": {},
   "source": [
    "Different number of decimal (significant) places across values (from 1 to 5 decimal places).\n",
    "Dataset contains duplicates, but it is normal for this kind of datasets, hence no duplicates remove is required (it's not a only unique values dataset).\n",
    "No dataset scaling or normalisation is required as data represent real life numbers measured in proper way.\n",
    "No outliers and suspicious values were detected. some values really low. As far as I remember height max values were between 2 and 60m, hence for this dataset values presented can belong do group of min, or less possible mean values."
   ]
  }
 ],
 "metadata": {
  "kernelspec": {
   "display_name": "Python 3",
   "language": "python",
   "name": "python3"
  },
  "language_info": {
   "codemirror_mode": {
    "name": "ipython",
    "version": 3
   },
   "file_extension": ".py",
   "mimetype": "text/x-python",
   "name": "python",
   "nbconvert_exporter": "python",
   "pygments_lexer": "ipython3",
   "version": "3.7.3"
  }
 },
 "nbformat": 4,
 "nbformat_minor": 5
}
